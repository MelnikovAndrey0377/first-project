{
 "cells": [
  {
   "cell_type": "code",
   "execution_count": 1,
   "id": "95e16012",
   "metadata": {
    "scrolled": true
   },
   "outputs": [],
   "source": [
    "import pandas as pd #импорт библиотеки\n",
    "gat = pd.read_excel(r'\\\\root\\root\\PUB\\Селезнёва\\Lena\\29.12\\\\tosno_20.xlsx') #открытие файла\n",
    "ost=gat['ost']\n",
    "count=0\n",
    "for index in range(len(gat)):\n",
    "    if gat['min'][index]>gat['ost'][index]:\n",
    "        count+=1\n",
    "        \n",
    "#print(gat.sort_values(by = 'ost',ascending = False).head(10))\n",
    "\n"
   ]
  },
  {
   "cell_type": "markdown",
   "id": "03c87b00",
   "metadata": {},
   "source": [
    "new version "
   ]
  },
  {
   "cell_type": "code",
   "execution_count": 2,
   "id": "acc27b1e",
   "metadata": {
    "scrolled": true
   },
   "outputs": [],
   "source": [
    "#gat.info()"
   ]
  },
  {
   "cell_type": "code",
   "execution_count": 3,
   "id": "f4764f41",
   "metadata": {},
   "outputs": [
    {
     "name": "stderr",
     "output_type": "stream",
     "text": [
      "C:\\Users\\andrey\\AppData\\Local\\Temp/ipykernel_9072/3228596966.py:4: SettingWithCopyWarning: \n",
      "A value is trying to be set on a copy of a slice from a DataFrame\n",
      "\n",
      "See the caveats in the documentation: https://pandas.pydata.org/pandas-docs/stable/user_guide/indexing.html#returning-a-view-versus-a-copy\n",
      "  gat['ost'][index] = 1\n"
     ]
    }
   ],
   "source": [
    "\n",
    "gat['ost_n']= 0\n",
    "for index in range(len(gat)):\n",
    "    if gat['ost'][index] >= 10000:\n",
    "        gat['ost'][index] = 1\n",
    " \n",
    "        #print(gat['ost'][index])\n",
    "\n",
    "#print(gat.sort_values(by = 'ost',ascending = False).head(5))        "
   ]
  },
  {
   "cell_type": "code",
   "execution_count": 4,
   "id": "6c6d9ebb",
   "metadata": {},
   "outputs": [],
   "source": [
    "\n",
    "gat['pr'] = gat['price_c']*gat['ost']\n"
   ]
  },
  {
   "cell_type": "code",
   "execution_count": 5,
   "id": "960b922f",
   "metadata": {},
   "outputs": [
    {
     "name": "stdout",
     "output_type": "stream",
     "text": [
      "Общая стоимость остатка 79407839.395\n",
      "стоимость остатка в роз. ценах статус Основной 62861380.555\n",
      "стоимость остатка в роз. ценах статус НЕ Основной 16546458.84\n",
      "основной статус 9291 Sku\n",
      "не основной статус 2606 Sku\n",
      "количество позиций с остатком меньше минимума 1080\n"
     ]
    }
   ],
   "source": [
    "print('Общая стоимость остатка',gat['pr'].sum())\n",
    "print('стоимость остатка в роз. ценах статус Основной', gat[gat['status'] == 'Основной']['pr'].sum())\n",
    "print('стоимость остатка в роз. ценах статус НЕ Основной', gat[gat['status'] != 'Основной']['pr'].sum())\n",
    "print('основной статус' ,gat['ost'][gat['status'] == 'Основной'].count(),'Sku')\n",
    "print('не основной статус' ,gat['ost'][gat['status'] != 'Основной'].count(),'Sku')\n",
    "print('количество позиций с остатком меньше минимума', count)\n"
   ]
  },
  {
   "cell_type": "code",
   "execution_count": null,
   "id": "a275950f",
   "metadata": {},
   "outputs": [],
   "source": []
  },
  {
   "cell_type": "code",
   "execution_count": null,
   "id": "852c391b",
   "metadata": {
    "scrolled": false
   },
   "outputs": [],
   "source": []
  },
  {
   "cell_type": "code",
   "execution_count": null,
   "id": "b76217de",
   "metadata": {
    "scrolled": true
   },
   "outputs": [],
   "source": []
  },
  {
   "cell_type": "code",
   "execution_count": null,
   "id": "46f2ed54",
   "metadata": {
    "scrolled": false
   },
   "outputs": [],
   "source": []
  },
  {
   "cell_type": "code",
   "execution_count": null,
   "id": "55dd1f6d",
   "metadata": {
    "scrolled": false
   },
   "outputs": [],
   "source": []
  },
  {
   "cell_type": "code",
   "execution_count": null,
   "id": "7a6696ec",
   "metadata": {},
   "outputs": [],
   "source": []
  }
 ],
 "metadata": {
  "kernelspec": {
   "display_name": "Python 3 (ipykernel)",
   "language": "python",
   "name": "python3"
  },
  "language_info": {
   "codemirror_mode": {
    "name": "ipython",
    "version": 3
   },
   "file_extension": ".py",
   "mimetype": "text/x-python",
   "name": "python",
   "nbconvert_exporter": "python",
   "pygments_lexer": "ipython3",
   "version": "3.9.7"
  }
 },
 "nbformat": 4,
 "nbformat_minor": 5
}
